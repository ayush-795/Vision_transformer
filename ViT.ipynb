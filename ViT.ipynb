{
  "nbformat": 4,
  "nbformat_minor": 0,
  "metadata": {
    "colab": {
      "provenance": []
    },
    "kernelspec": {
      "name": "python3",
      "display_name": "Python 3"
    },
    "language_info": {
      "name": "python"
    },
    "accelerator": "GPU",
    "gpuClass": "standard"
  },
  "cells": [
    {
      "cell_type": "code",
      "execution_count": 11,
      "metadata": {
        "id": "zjjhr4MLg6-1"
      },
      "outputs": [],
      "source": [
        "import numpy as np\n",
        "import h5py"
      ]
    },
    {
      "cell_type": "code",
      "source": [
        "hf = h5py.File('/content/drive/MyDrive/data/SingleElectronPt50_IMGCROPS_n249k_RHv1.hdf5','r')\n",
        "x = hf.get('X')[:50000]\n",
        "y = hf.get('y')[:50000]\n",
        "\n",
        "x_electron = np.asarray(x)\n",
        "y_electron = np.asarray(y)"
      ],
      "metadata": {
        "id": "2PxlmFa_hh8e"
      },
      "execution_count": 12,
      "outputs": []
    },
    {
      "cell_type": "code",
      "source": [
        "hf1 = h5py.File('/content/drive/MyDrive/data/SinglePhotonPt50_IMGCROPS_n249k_RHv1.hdf5','r')\n",
        "x1 = hf1.get('X')[:50000]\n",
        "y1 = hf1.get('y')[:50000]\n",
        "\n",
        "x_photon = np.asarray(x1)\n",
        "y_photon = np.asarray(y1)"
      ],
      "metadata": {
        "id": "8lnYPF6hhk-B"
      },
      "execution_count": 13,
      "outputs": []
    },
    {
      "cell_type": "code",
      "source": [
        "x_data = np.concatenate((x_electron,x_photon),axis=0)\n",
        "y_data = np.concatenate((y_electron,y_photon),axis=0)\n",
        "avg_channel = np.mean(x_data[:,:, :, :2], axis=-1, keepdims=True)\n",
        "\n",
        "# Concatenate the average channel with the original image\n",
        "x_data = np.concatenate((x_data, avg_channel), axis=-1)"
      ],
      "metadata": {
        "id": "OfZA0faNhqsJ"
      },
      "execution_count": 14,
      "outputs": []
    },
    {
      "cell_type": "code",
      "source": [
        "import tensorflow as tf\n",
        "from tensorflow import keras\n",
        "from keras import layers\n",
        "from sklearn.model_selection import train_test_split\n",
        "from sklearn.metrics import roc_auc_score\n",
        "import matplotlib.pyplot as plt\n",
        "%matplotlib inline"
      ],
      "metadata": {
        "id": "6KIcx6l2hsLt"
      },
      "execution_count": 15,
      "outputs": []
    },
    {
      "cell_type": "code",
      "source": [
        "x_train, x_validate, y_train, y_validate = train_test_split(x_data, y_data, test_size=0.2, random_state=42)\n",
        "x_test, x_val, y_test, y_val = train_test_split(x_validate, y_validate, test_size=0.5, random_state=42)"
      ],
      "metadata": {
        "id": "IP4k4ZHjhtvJ"
      },
      "execution_count": 16,
      "outputs": []
    },
    {
      "cell_type": "code",
      "source": [
        "import tensorflow as tf\n",
        "from tensorflow import keras\n",
        "from tensorflow.keras import layers\n",
        "\n",
        "# Define the number of classes in the classification task\n",
        "num_classes = 1\n",
        "\n",
        "# Define the patch size and number of patches\n",
        "patch_size = 4\n",
        "num_patches = (32 // patch_size) ** 2\n",
        "\n",
        "# Define the embedding dimension and transformer block parameters\n",
        "embedding_dim = 64\n",
        "transformer_units = [\n",
        "    embedding_dim * 2,\n",
        "    embedding_dim,\n",
        "]\n",
        "\n",
        "# Define the input layer for the image\n",
        "inputs = layers.Input(shape=(32, 32, 3))\n",
        "\n",
        "# Split the image into patches\n",
        "patches = layers.Reshape((num_patches, patch_size * patch_size * 3))(inputs)\n",
        "\n",
        "# Add a learnable embedding to each patch vector\n",
        "embedding_layer = layers.Dense(embedding_dim)\n",
        "embedded_patches = embedding_layer(patches)\n",
        "\n",
        "# Add positional encoding to the embedded patches\n",
        "positional_encoding_layer = layers.Embedding(input_dim=num_patches, output_dim=embedding_dim)\n",
        "positions = tf.range(start=0, limit=num_patches, delta=1)\n",
        "position_encodings = positional_encoding_layer(positions)\n",
        "encoded_patches = embedded_patches + position_encodings\n",
        "\n",
        "# Apply a stack of transformer blocks\n",
        "for units in transformer_units:\n",
        "    transformer_layer = layers.MultiHeadAttention(num_heads=8, key_dim=embedding_dim // 8)\n",
        "    x1 = transformer_layer(encoded_patches, encoded_patches)\n",
        "    x1 = layers.Dropout(0.1)(x1)\n",
        "    x2 = layers.Add()([x1, encoded_patches])\n",
        "    x3 = layers.LayerNormalization()(x2)\n",
        "    x4 = layers.Dense(units, activation=\"relu\")(x3)\n",
        "    x5 = layers.Dropout(0.1)(x4)\n",
        "    x6 = layers.Dense(embedding_dim)(x5)\n",
        "    x7 = layers.Dropout(0.1)(x6)\n",
        "    encoded_patches = layers.Add()([x7, x2])\n",
        "    encoded_patches = layers.LayerNormalization()(encoded_patches)\n",
        "\n",
        "# Apply global average pooling to obtain a single feature vector\n",
        "features = layers.GlobalAveragePooling1D()(encoded_patches)\n",
        "\n",
        "# Add a classification output layer\n",
        "outputs = layers.Dense(num_classes, activation=\"sigmoid\")(features)\n",
        "\n",
        "# Create the model\n",
        "model = keras.Model(inputs=inputs, outputs=outputs)\n",
        "\n",
        "# Print the model summary\n",
        "model.summary()"
      ],
      "metadata": {
        "colab": {
          "base_uri": "https://localhost:8080/"
        },
        "id": "ZjU3ljIKh1CW",
        "outputId": "bb7dbc7d-0849-4eb7-a867-da724e821e08"
      },
      "execution_count": 17,
      "outputs": [
        {
          "output_type": "stream",
          "name": "stdout",
          "text": [
            "Model: \"model_1\"\n",
            "__________________________________________________________________________________________________\n",
            " Layer (type)                   Output Shape         Param #     Connected to                     \n",
            "==================================================================================================\n",
            " input_2 (InputLayer)           [(None, 32, 32, 3)]  0           []                               \n",
            "                                                                                                  \n",
            " reshape_1 (Reshape)            (None, 64, 48)       0           ['input_2[0][0]']                \n",
            "                                                                                                  \n",
            " dense_6 (Dense)                (None, 64, 64)       3136        ['reshape_1[0][0]']              \n",
            "                                                                                                  \n",
            " tf.__operators__.add_1 (TFOpLa  (None, 64, 64)      0           ['dense_6[0][0]']                \n",
            " mbda)                                                                                            \n",
            "                                                                                                  \n",
            " multi_head_attention_2 (MultiH  (None, 64, 64)      16640       ['tf.__operators__.add_1[0][0]', \n",
            " eadAttention)                                                    'tf.__operators__.add_1[0][0]'] \n",
            "                                                                                                  \n",
            " dropout_6 (Dropout)            (None, 64, 64)       0           ['multi_head_attention_2[0][0]'] \n",
            "                                                                                                  \n",
            " add_4 (Add)                    (None, 64, 64)       0           ['dropout_6[0][0]',              \n",
            "                                                                  'tf.__operators__.add_1[0][0]'] \n",
            "                                                                                                  \n",
            " layer_normalization_4 (LayerNo  (None, 64, 64)      128         ['add_4[0][0]']                  \n",
            " rmalization)                                                                                     \n",
            "                                                                                                  \n",
            " dense_7 (Dense)                (None, 64, 128)      8320        ['layer_normalization_4[0][0]']  \n",
            "                                                                                                  \n",
            " dropout_7 (Dropout)            (None, 64, 128)      0           ['dense_7[0][0]']                \n",
            "                                                                                                  \n",
            " dense_8 (Dense)                (None, 64, 64)       8256        ['dropout_7[0][0]']              \n",
            "                                                                                                  \n",
            " dropout_8 (Dropout)            (None, 64, 64)       0           ['dense_8[0][0]']                \n",
            "                                                                                                  \n",
            " add_5 (Add)                    (None, 64, 64)       0           ['dropout_8[0][0]',              \n",
            "                                                                  'add_4[0][0]']                  \n",
            "                                                                                                  \n",
            " layer_normalization_5 (LayerNo  (None, 64, 64)      128         ['add_5[0][0]']                  \n",
            " rmalization)                                                                                     \n",
            "                                                                                                  \n",
            " multi_head_attention_3 (MultiH  (None, 64, 64)      16640       ['layer_normalization_5[0][0]',  \n",
            " eadAttention)                                                    'layer_normalization_5[0][0]']  \n",
            "                                                                                                  \n",
            " dropout_9 (Dropout)            (None, 64, 64)       0           ['multi_head_attention_3[0][0]'] \n",
            "                                                                                                  \n",
            " add_6 (Add)                    (None, 64, 64)       0           ['dropout_9[0][0]',              \n",
            "                                                                  'layer_normalization_5[0][0]']  \n",
            "                                                                                                  \n",
            " layer_normalization_6 (LayerNo  (None, 64, 64)      128         ['add_6[0][0]']                  \n",
            " rmalization)                                                                                     \n",
            "                                                                                                  \n",
            " dense_9 (Dense)                (None, 64, 64)       4160        ['layer_normalization_6[0][0]']  \n",
            "                                                                                                  \n",
            " dropout_10 (Dropout)           (None, 64, 64)       0           ['dense_9[0][0]']                \n",
            "                                                                                                  \n",
            " dense_10 (Dense)               (None, 64, 64)       4160        ['dropout_10[0][0]']             \n",
            "                                                                                                  \n",
            " dropout_11 (Dropout)           (None, 64, 64)       0           ['dense_10[0][0]']               \n",
            "                                                                                                  \n",
            " add_7 (Add)                    (None, 64, 64)       0           ['dropout_11[0][0]',             \n",
            "                                                                  'add_6[0][0]']                  \n",
            "                                                                                                  \n",
            " layer_normalization_7 (LayerNo  (None, 64, 64)      128         ['add_7[0][0]']                  \n",
            " rmalization)                                                                                     \n",
            "                                                                                                  \n",
            " global_average_pooling1d_1 (Gl  (None, 64)          0           ['layer_normalization_7[0][0]']  \n",
            " obalAveragePooling1D)                                                                            \n",
            "                                                                                                  \n",
            " dense_11 (Dense)               (None, 1)            65          ['global_average_pooling1d_1[0][0\n",
            "                                                                 ]']                              \n",
            "                                                                                                  \n",
            "==================================================================================================\n",
            "Total params: 61,889\n",
            "Trainable params: 61,889\n",
            "Non-trainable params: 0\n",
            "__________________________________________________________________________________________________\n"
          ]
        }
      ]
    },
    {
      "cell_type": "code",
      "source": [
        "from keras.optimizers import Adam\n",
        "\n",
        "model.compile(loss='binary_crossentropy',\n",
        "              optimizer='adam',\n",
        "              metrics=['accuracy'])\n",
        "model.fit(x_train,y_train,validation_data=(x_val,y_val),epochs=20)"
      ],
      "metadata": {
        "colab": {
          "base_uri": "https://localhost:8080/"
        },
        "id": "_IpWafZDh27n",
        "outputId": "dcc35a1c-5716-49e9-8966-360354bc1f35"
      },
      "execution_count": 18,
      "outputs": [
        {
          "output_type": "stream",
          "name": "stdout",
          "text": [
            "Epoch 1/20\n",
            "2500/2500 [==============================] - 32s 10ms/step - loss: 0.6667 - accuracy: 0.5893 - val_loss: 0.6465 - val_accuracy: 0.6326\n",
            "Epoch 2/20\n",
            "2500/2500 [==============================] - 24s 10ms/step - loss: 0.6378 - accuracy: 0.6429 - val_loss: 0.6370 - val_accuracy: 0.6337\n",
            "Epoch 3/20\n",
            "2500/2500 [==============================] - 24s 9ms/step - loss: 0.6237 - accuracy: 0.6584 - val_loss: 0.6350 - val_accuracy: 0.6523\n",
            "Epoch 4/20\n",
            "2500/2500 [==============================] - 24s 10ms/step - loss: 0.6137 - accuracy: 0.6705 - val_loss: 0.6126 - val_accuracy: 0.6703\n",
            "Epoch 5/20\n",
            "2500/2500 [==============================] - 26s 10ms/step - loss: 0.6058 - accuracy: 0.6795 - val_loss: 0.6070 - val_accuracy: 0.6803\n",
            "Epoch 6/20\n",
            "2500/2500 [==============================] - 26s 10ms/step - loss: 0.6021 - accuracy: 0.6819 - val_loss: 0.6126 - val_accuracy: 0.6675\n",
            "Epoch 7/20\n",
            "2500/2500 [==============================] - 25s 10ms/step - loss: 0.5987 - accuracy: 0.6878 - val_loss: 0.6146 - val_accuracy: 0.6643\n",
            "Epoch 8/20\n",
            "2500/2500 [==============================] - 23s 9ms/step - loss: 0.5948 - accuracy: 0.6898 - val_loss: 0.6149 - val_accuracy: 0.6738\n",
            "Epoch 9/20\n",
            "2500/2500 [==============================] - 23s 9ms/step - loss: 0.5933 - accuracy: 0.6919 - val_loss: 0.5969 - val_accuracy: 0.6821\n",
            "Epoch 10/20\n",
            "2500/2500 [==============================] - 23s 9ms/step - loss: 0.5913 - accuracy: 0.6940 - val_loss: 0.6010 - val_accuracy: 0.6850\n",
            "Epoch 11/20\n",
            "2500/2500 [==============================] - 25s 10ms/step - loss: 0.5891 - accuracy: 0.6967 - val_loss: 0.5953 - val_accuracy: 0.6855\n",
            "Epoch 12/20\n",
            "2500/2500 [==============================] - 23s 9ms/step - loss: 0.5865 - accuracy: 0.6984 - val_loss: 0.5944 - val_accuracy: 0.6913\n",
            "Epoch 13/20\n",
            "2500/2500 [==============================] - 23s 9ms/step - loss: 0.5858 - accuracy: 0.6979 - val_loss: 0.5894 - val_accuracy: 0.6929\n",
            "Epoch 14/20\n",
            "2500/2500 [==============================] - 24s 10ms/step - loss: 0.5847 - accuracy: 0.6999 - val_loss: 0.5899 - val_accuracy: 0.6958\n",
            "Epoch 15/20\n",
            "2500/2500 [==============================] - 24s 9ms/step - loss: 0.5828 - accuracy: 0.7000 - val_loss: 0.6084 - val_accuracy: 0.6768\n",
            "Epoch 16/20\n",
            "2500/2500 [==============================] - 22s 9ms/step - loss: 0.5816 - accuracy: 0.7015 - val_loss: 0.6027 - val_accuracy: 0.6833\n",
            "Epoch 17/20\n",
            "2500/2500 [==============================] - 23s 9ms/step - loss: 0.5819 - accuracy: 0.7020 - val_loss: 0.5967 - val_accuracy: 0.6882\n",
            "Epoch 18/20\n",
            "2500/2500 [==============================] - 24s 10ms/step - loss: 0.5814 - accuracy: 0.7022 - val_loss: 0.5921 - val_accuracy: 0.6920\n",
            "Epoch 19/20\n",
            "2500/2500 [==============================] - 24s 9ms/step - loss: 0.5795 - accuracy: 0.7048 - val_loss: 0.5915 - val_accuracy: 0.6916\n",
            "Epoch 20/20\n",
            "2500/2500 [==============================] - 22s 9ms/step - loss: 0.5790 - accuracy: 0.7055 - val_loss: 0.5975 - val_accuracy: 0.6849\n"
          ]
        },
        {
          "output_type": "execute_result",
          "data": {
            "text/plain": [
              "<keras.callbacks.History at 0x7fd9e5914670>"
            ]
          },
          "metadata": {},
          "execution_count": 18
        }
      ]
    },
    {
      "cell_type": "code",
      "source": [
        "from sklearn.metrics import roc_auc_score\n",
        "pred_prob1 = model.predict(x_test)\n",
        "auc_score1 = roc_auc_score(y_test, pred_prob1[:])\n",
        "auc_score1"
      ],
      "metadata": {
        "colab": {
          "base_uri": "https://localhost:8080/"
        },
        "id": "KhtH0TcXh5-r",
        "outputId": "78d21c0e-3b18-49c6-a49d-c1f243acf129"
      },
      "execution_count": 19,
      "outputs": [
        {
          "output_type": "stream",
          "name": "stdout",
          "text": [
            "313/313 [==============================] - 2s 5ms/step\n"
          ]
        },
        {
          "output_type": "execute_result",
          "data": {
            "text/plain": [
              "0.7651813666322997"
            ]
          },
          "metadata": {},
          "execution_count": 19
        }
      ]
    },
    {
      "cell_type": "code",
      "source": [],
      "metadata": {
        "id": "fmxlTOmwh7gi"
      },
      "execution_count": 19,
      "outputs": []
    }
  ]
}